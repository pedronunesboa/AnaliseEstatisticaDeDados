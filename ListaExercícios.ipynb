{
  "nbformat": 4,
  "nbformat_minor": 0,
  "metadata": {
    "colab": {
      "provenance": []
    },
    "kernelspec": {
      "name": "python3",
      "display_name": "Python 3"
    },
    "language_info": {
      "name": "python"
    }
  },
  "cells": [
    {
      "cell_type": "code",
      "execution_count": 88,
      "metadata": {
        "id": "gVqKB6lrSUQi"
      },
      "outputs": [],
      "source": [
        "import pandas as pd\n",
        "import math\n",
        "from scipy.stats import binom\n",
        "from scipy.stats import poisson"
      ]
    },
    {
      "cell_type": "markdown",
      "source": [
        "\n",
        "1. Uma remessa de 800 estabilizadores de tensão é recebida pelo controle de\n",
        "qualidade de uma empresa. São inspecionados 20 aparelhos da remessa, que\n",
        "será aceita se ocorrer no máximo um defeituoso. Há 80 defeituosos no lote.\n",
        "Qual a probabilidade de o lote ser aceito?\n"
      ],
      "metadata": {
        "id": "KWXTPEYXS3pL"
      }
    },
    {
      "cell_type": "code",
      "source": [
        "eventos = 20\n",
        "probabilidade = 0.1"
      ],
      "metadata": {
        "id": "ea9SJg7cTwbz"
      },
      "execution_count": 89,
      "outputs": []
    },
    {
      "cell_type": "code",
      "source": [
        "Valores = list(range(eventos + 1))\n",
        "distV = [binom.pmf(X, eventos, probabilidade) for X in Valores]\n",
        "print(\"X\\tP(X)\")\n",
        "for i, X in enumerate(Valores):\n",
        "    print(f\"{X} \\t {distV[i]:.10f}\")"
      ],
      "metadata": {
        "colab": {
          "base_uri": "https://localhost:8080/"
        },
        "id": "2vKTOAfJUdSj",
        "outputId": "af671151-5b9b-42b6-ee63-e79084f3f26d"
      },
      "execution_count": 90,
      "outputs": [
        {
          "output_type": "stream",
          "name": "stdout",
          "text": [
            "X\tP(X)\n",
            "0 \t 0.1215766546\n",
            "1 \t 0.2701703435\n",
            "2 \t 0.2851798071\n",
            "3 \t 0.1901198714\n",
            "4 \t 0.0897788281\n",
            "5 \t 0.0319213611\n",
            "6 \t 0.0088670448\n",
            "7 \t 0.0019704544\n",
            "8 \t 0.0003557765\n",
            "9 \t 0.0000527076\n",
            "10 \t 0.0000064420\n",
            "11 \t 0.0000006507\n",
            "12 \t 0.0000000542\n",
            "13 \t 0.0000000037\n",
            "14 \t 0.0000000002\n",
            "15 \t 0.0000000000\n",
            "16 \t 0.0000000000\n",
            "17 \t 0.0000000000\n",
            "18 \t 0.0000000000\n",
            "19 \t 0.0000000000\n",
            "20 \t 0.0000000000\n"
          ]
        }
      ]
    },
    {
      "cell_type": "code",
      "source": [
        "soma = distV[0] + distV[1]\n",
        "soma\n",
        "print(f'A probabilidade do lote ser aceito é de: {soma}')"
      ],
      "metadata": {
        "colab": {
          "base_uri": "https://localhost:8080/"
        },
        "id": "7kKWlBw9UuZD",
        "outputId": "78b8696d-0527-40de-c816-18a98277b83a"
      },
      "execution_count": 91,
      "outputs": [
        {
          "output_type": "stream",
          "name": "stdout",
          "text": [
            "A probabilidade do lote ser aceito é de: 0.39174699812516767\n"
          ]
        }
      ]
    },
    {
      "cell_type": "markdown",
      "source": [
        "2. Acredita-se que 20% dos moradores das proximidades de uma grande\n",
        "indústria siderúrgica têm alergia aos poluentes lançados ao ar. Admitindo que\n",
        "este percentual de alérgicos é real (correto), calcule a probabilidade de que\n",
        "pelo menos 4 moradores tenham alergia entre 13 selecionados ao acaso."
      ],
      "metadata": {
        "id": "-oUZAdQ5Sy0b"
      }
    },
    {
      "cell_type": "code",
      "source": [
        "eventos = 13\n",
        "probab = 0.2\n",
        "Valores = list(range(eventos + 1))\n",
        "distV = [binom.pmf(X, eventos, probab) for X in Valores]\n",
        "print(\"X\\tP(X)\")\n",
        "for i, X in enumerate(Valores):\n",
        "    print(f\"{X} \\t {distV[i]:.10f}\")"
      ],
      "metadata": {
        "colab": {
          "base_uri": "https://localhost:8080/"
        },
        "id": "UVaaM5E4U9rr",
        "outputId": "d4015ce0-9c5d-467f-ecf4-aec5091fbeb2"
      },
      "execution_count": 92,
      "outputs": [
        {
          "output_type": "stream",
          "name": "stdout",
          "text": [
            "X\tP(X)\n",
            "0 \t 0.0549755814\n",
            "1 \t 0.1786706395\n",
            "2 \t 0.2680059593\n",
            "3 \t 0.2456721293\n",
            "4 \t 0.1535450808\n",
            "5 \t 0.0690952864\n",
            "6 \t 0.0230317621\n",
            "7 \t 0.0057579405\n",
            "8 \t 0.0010796138\n",
            "9 \t 0.0001499464\n",
            "10 \t 0.0000149946\n",
            "11 \t 0.0000010224\n",
            "12 \t 0.0000000426\n",
            "13 \t 0.0000000008\n"
          ]
        }
      ]
    },
    {
      "cell_type": "code",
      "source": [
        "#soma = distV[4] + distV[5] + distV[6] + distV[7] + distV[8] + distV[9] + distV[10] + distV[11] + distV[12] + distV[13]\n",
        "\n",
        "probabMax = 0\n",
        "for x in range (4, 14):\n",
        "  probabMax += distV[x]\n",
        "\n",
        "print(f'A probabilidade de que pelo menos 4 moradores tenham alergia entre 13 é: {probabMax}')"
      ],
      "metadata": {
        "colab": {
          "base_uri": "https://localhost:8080/"
        },
        "id": "luiJ3-37X0XF",
        "outputId": "74c88ca7-22b9-4993-aa49-11d7a748f0c2"
      },
      "execution_count": 93,
      "outputs": [
        {
          "output_type": "stream",
          "name": "stdout",
          "text": [
            "A probabilidade de que pelo menos 4 moradores tenham alergia entre 13 é: 0.2526756904959998\n"
          ]
        }
      ]
    },
    {
      "cell_type": "markdown",
      "source": [
        "3. (Magalhães, 2004) O escore em um teste internacional de proficiência na\n",
        "língua inglesa varia de 0 a 700 pontos, com mais pontos indicando um melhor\n",
        "desempenho. Informações, coletadas durante vários anos, permitem\n",
        "estabelecer o seguinte modelo para o desempenho no teste:\n",
        "Pontos [0,200) [200,300) [300,400) [400,500) [500,600) [600,700)\n",
        "Pi 0.06 0.15 0.16 0.25 0.28 0.10\n",
        "\n",
        "Várias universidades americanas exigem um escore mínimo de 600 pontos\n",
        "para\n",
        "aceitar candidatos de países de língua não inglesa. De um grande grupo de\n",
        "estudantes brasileiros que prestaram o último exame escolhemos ao acaso 20\n",
        "deles. Qual a probabilidade de no máximo 3 atenderem ao requisito mínimo\n",
        "mencionado?"
      ],
      "metadata": {
        "id": "0I5EegIOS3iC"
      }
    },
    {
      "cell_type": "code",
      "source": [
        "eventos = 20\n",
        "probab600_700 = 0.1\n",
        "Valores = list(range(eventos + 1))\n",
        "distV = [binom.pmf(X, eventos, probab600_700) for X in Valores]\n",
        "print(\"X\\tP(X)\")\n",
        "for i, X in enumerate(Valores):\n",
        "    print(f\"{X} \\t {distV[i]:.10f}\")"
      ],
      "metadata": {
        "colab": {
          "base_uri": "https://localhost:8080/"
        },
        "id": "A3UGxxRLXW9k",
        "outputId": "6b37157f-f42e-44a4-9707-0cb51d543f2e"
      },
      "execution_count": 94,
      "outputs": [
        {
          "output_type": "stream",
          "name": "stdout",
          "text": [
            "X\tP(X)\n",
            "0 \t 0.1215766546\n",
            "1 \t 0.2701703435\n",
            "2 \t 0.2851798071\n",
            "3 \t 0.1901198714\n",
            "4 \t 0.0897788281\n",
            "5 \t 0.0319213611\n",
            "6 \t 0.0088670448\n",
            "7 \t 0.0019704544\n",
            "8 \t 0.0003557765\n",
            "9 \t 0.0000527076\n",
            "10 \t 0.0000064420\n",
            "11 \t 0.0000006507\n",
            "12 \t 0.0000000542\n",
            "13 \t 0.0000000037\n",
            "14 \t 0.0000000002\n",
            "15 \t 0.0000000000\n",
            "16 \t 0.0000000000\n",
            "17 \t 0.0000000000\n",
            "18 \t 0.0000000000\n",
            "19 \t 0.0000000000\n",
            "20 \t 0.0000000000\n"
          ]
        }
      ]
    },
    {
      "cell_type": "code",
      "source": [
        "probabMax = 0\n",
        "for x in range (0, 4):\n",
        "  probabMax += distV[x]\n",
        "\n",
        "print(probabMax)"
      ],
      "metadata": {
        "colab": {
          "base_uri": "https://localhost:8080/"
        },
        "id": "rbu5qbpzZNAU",
        "outputId": "88efd62d-ff2f-403f-e2be-f46715be9b2e"
      },
      "execution_count": 95,
      "outputs": [
        {
          "output_type": "stream",
          "name": "stdout",
          "text": [
            "0.8670466765656651\n"
          ]
        }
      ]
    },
    {
      "cell_type": "markdown",
      "source": [
        "4. (Magalhães,2004) 25% dos universitários de São Paulo praticam esporte.\n",
        "Escolhendo-se ao acaso 15 desses estudantes, determine a probabilidade de:\n",
        "a) Pelo menos 2 deles serem esportistas\n",
        "b) No mínimo 12 deles não serem esportistas"
      ],
      "metadata": {
        "id": "VpoVojtLS3ba"
      }
    },
    {
      "cell_type": "code",
      "source": [
        "eventos = 15\n",
        "probab = 0.25\n",
        "Valores = list(range(eventos + 1))\n",
        "distV = [binom.pmf(X, eventos, probab) for X in Valores]\n",
        "print(\"X\\tP(X)\")\n",
        "for i, X in enumerate(Valores):\n",
        "    print(f\"{X} \\t {distV[i]:.10f}\")"
      ],
      "metadata": {
        "colab": {
          "base_uri": "https://localhost:8080/"
        },
        "id": "N8obNSsEXXi8",
        "outputId": "e9470538-1851-42d9-c2f8-bd4bc20839b0"
      },
      "execution_count": 96,
      "outputs": [
        {
          "output_type": "stream",
          "name": "stdout",
          "text": [
            "X\tP(X)\n",
            "0 \t 0.0133634610\n",
            "1 \t 0.0668173051\n",
            "2 \t 0.1559070451\n",
            "3 \t 0.2251990652\n",
            "4 \t 0.2251990652\n",
            "5 \t 0.1651459811\n",
            "6 \t 0.0917477673\n",
            "7 \t 0.0393204717\n",
            "8 \t 0.0131068239\n",
            "9 \t 0.0033980655\n",
            "10 \t 0.0006796131\n",
            "11 \t 0.0001029717\n",
            "12 \t 0.0000114413\n",
            "13 \t 0.0000008801\n",
            "14 \t 0.0000000419\n",
            "15 \t 0.0000000009\n"
          ]
        }
      ]
    },
    {
      "cell_type": "code",
      "source": [
        "\n",
        "\"\"\"\n",
        "Outro método de fazer utilizando função binom.cdf\n",
        "\n",
        "O binom.cdf(k, n, p, loc=0) retorna a probabilidade cumulativa de X ≤ k para uma distribuição binomial com parâmetros n (total de ensaios), p (probabilidade de sucesso) e loc (deslocamento, que é 0 por padrão).\n",
        "\n",
        "# a) Cálculo da probabilidade Pelo menos 2 deles serem esportistas: P[X≥2] = 1 - P[X<2]\n",
        "probability_a = 1 - binom.cdf(1, eventos, probab, loc=0)\n",
        "\"\"\"\n",
        "\n",
        "# a)\n",
        "\n",
        "probabMax = 0\n",
        "for x in range (2, 16):\n",
        "  probabMax += distV[x]\n",
        "\n",
        "print(probabMax)\n"
      ],
      "metadata": {
        "colab": {
          "base_uri": "https://localhost:8080/"
        },
        "id": "PIkLk9JMZlA9",
        "outputId": "c4abe1e4-8a84-460a-80ed-9809d49bcd81"
      },
      "execution_count": 97,
      "outputs": [
        {
          "output_type": "stream",
          "name": "stdout",
          "text": [
            "0.9198192339390516\n"
          ]
        }
      ]
    },
    {
      "cell_type": "code",
      "source": [
        "\n",
        "# b) Cálculo da probabilidade No mínimo 12 deles não serem esportistas: P[Y≥12] = P[X≤3]\n",
        "probabN = binom.cdf(3, eventos, probab, loc=0)\n",
        "probabN\n"
      ],
      "metadata": {
        "colab": {
          "base_uri": "https://localhost:8080/"
        },
        "id": "Rti3zVFtZpFF",
        "outputId": "924b713d-0657-4c0c-b374-4bc04d54e8c1"
      },
      "execution_count": 98,
      "outputs": [
        {
          "output_type": "execute_result",
          "data": {
            "text/plain": [
              "0.46128687635064125"
            ]
          },
          "metadata": {},
          "execution_count": 98
        }
      ]
    },
    {
      "cell_type": "markdown",
      "source": [
        "5. A probabilidade de uma máquina produzir uma peça defeituosa é de 0,1.\n",
        "Qual a probabilidade de que em 20 peças produzidas pela máquina num dia,\n",
        "ocorram 3 defeituosas? Com base nesse resultado você continuaria produzindo\n",
        "peças com esta máquina levando em consideração uma grande produção de\n",
        "peças por dia?"
      ],
      "metadata": {
        "id": "WpmEh-2ZS3Ty"
      }
    },
    {
      "cell_type": "code",
      "source": [
        "eventos = 20\n",
        "probab = 0.1\n",
        "Valores = list(range(eventos + 1))\n",
        "distV = [binom.pmf(X, eventos, probab) for X in Valores]\n",
        "print(\"X\\tP(X)\")\n",
        "for i, X in enumerate(Valores):\n",
        "    print(f\"{X} \\t {distV[i]:.10f}\")"
      ],
      "metadata": {
        "colab": {
          "base_uri": "https://localhost:8080/"
        },
        "id": "sUt_C-p1XYCs",
        "outputId": "cb0d2d69-fdaa-497a-e5a8-0519119c2406"
      },
      "execution_count": 99,
      "outputs": [
        {
          "output_type": "stream",
          "name": "stdout",
          "text": [
            "X\tP(X)\n",
            "0 \t 0.1215766546\n",
            "1 \t 0.2701703435\n",
            "2 \t 0.2851798071\n",
            "3 \t 0.1901198714\n",
            "4 \t 0.0897788281\n",
            "5 \t 0.0319213611\n",
            "6 \t 0.0088670448\n",
            "7 \t 0.0019704544\n",
            "8 \t 0.0003557765\n",
            "9 \t 0.0000527076\n",
            "10 \t 0.0000064420\n",
            "11 \t 0.0000006507\n",
            "12 \t 0.0000000542\n",
            "13 \t 0.0000000037\n",
            "14 \t 0.0000000002\n",
            "15 \t 0.0000000000\n",
            "16 \t 0.0000000000\n",
            "17 \t 0.0000000000\n",
            "18 \t 0.0000000000\n",
            "19 \t 0.0000000000\n",
            "20 \t 0.0000000000\n"
          ]
        }
      ]
    },
    {
      "cell_type": "code",
      "source": [
        "print(f'A probabilidade de ocorrer 3 peças defeituosas em um dia é de: {distV[3]}. ')\n",
        "\n",
        "probabMax = 0\n",
        "for x in range (3, 21):\n",
        "  probabMax += distV[x]\n",
        "\n",
        "print(f'Podemos perceber que 19% apresenta o valor exato de 3 peças com defeito das amostras de 20, sendo um valor significativo a ponto de não utilizar essa máquina,\\nse considerarmos {probabMax:.4f}%, temos um valor ainda mais preocupante para mais peças defeituosas')"
      ],
      "metadata": {
        "colab": {
          "base_uri": "https://localhost:8080/"
        },
        "id": "464hindD2S1b",
        "outputId": "a4a802d7-44c7-4a62-9099-7af261694294"
      },
      "execution_count": 100,
      "outputs": [
        {
          "output_type": "stream",
          "name": "stdout",
          "text": [
            "A probabilidade de ocorrer 3 peças defeituosas em um dia é de: 0.19011987137619904. \n",
            "Podemos perceber que 19% apresenta o valor exato de 3 peças com defeito das amostras de 20, sendo um valor significativo a ponto de não utilizar essa máquina,\n",
            "se considerarmos 0.3231%, temos um valor ainda mais preocupante para mais peças defeituosas\n"
          ]
        }
      ]
    },
    {
      "cell_type": "markdown",
      "source": [
        "DISTRIBUIÇÃO DE POISSON\n",
        "6. (Meyer,2000) Suponha que Xt, o nº de partículas emitidas em t horas por\n",
        "uma fonte radioativa, tenha uma distribuição de Poisson com parâmetro 20t.\n",
        "Qual será a probabilidade de que exatamente 5 partículas sejam emitidas\n",
        "durante um período de 15 min?"
      ],
      "metadata": {
        "id": "Y9xsNu4aS3Gy"
      }
    },
    {
      "cell_type": "code",
      "source": [
        "#pmf(k, mu, loc=0) Probability mass function.\n",
        "\n",
        "probabPoisson = poisson.pmf(5,20*(1/4))\n",
        "probabPoisson"
      ],
      "metadata": {
        "colab": {
          "base_uri": "https://localhost:8080/"
        },
        "id": "owWRaNV4XZXs",
        "outputId": "4d991504-b43e-411d-9aeb-f6e95a118374"
      },
      "execution_count": 101,
      "outputs": [
        {
          "output_type": "execute_result",
          "data": {
            "text/plain": [
              "0.17546736976785068"
            ]
          },
          "metadata": {},
          "execution_count": 101
        }
      ]
    },
    {
      "cell_type": "markdown",
      "source": [
        "7. (Magalhães, 2004) Uma indústria de tintas recebe pedidos de seus\n",
        "vendedores através de fax, telefone e internet. A taxa média é de 5 pedidos por\n",
        "hora.\n",
        "a) Qual a probabilidade de a indústria receber mais de dois pedidos por hora?\n",
        "Digamos que, no horário do almoço, a indústria fica impossibilitada de atender\n",
        "a mais de dois pedidos por hora. Você acha que deveria aumentar o nº de\n",
        "atendentes nesse período?\n",
        "b) Em um dia de trabalho (8 horas) qual seria a probabilidade de haver 50\n",
        "pedidos? A indústria deveria aumentar o nº de atendentes para receber mais\n",
        "de 50 pedidos por dia?"
      ],
      "metadata": {
        "id": "KFhr6nSiTEJC"
      }
    },
    {
      "cell_type": "code",
      "source": [
        "# a)\n",
        "#cdf(k, mu, loc=0) Cumulative distribution function.\n",
        "\n",
        "probabPoisson = poisson.cdf(2, 5)\n",
        "\n",
        "print(f'Como {1 - probabPoisson} representa um índice alto de chance de ocorrer, é recomendado a contratação de mais atendentes')"
      ],
      "metadata": {
        "id": "BWP6sK-eXZ_D",
        "colab": {
          "base_uri": "https://localhost:8080/"
        },
        "outputId": "bdc9a9cb-29be-419b-a83e-e7ea95956bec"
      },
      "execution_count": 102,
      "outputs": [
        {
          "output_type": "stream",
          "name": "stdout",
          "text": [
            "Como 0.8753479805169189 representa um índice alto de chance de ocorrer, é recomendado a contratação de mais atendentes\n"
          ]
        }
      ]
    },
    {
      "cell_type": "code",
      "source": [
        "# b)\n",
        "# sf(k, mu, loc=0) Survival function (also defined as 1 - cdf, but sf is sometimes more accurate).\n",
        "\n",
        "lmbda = 8*5 # taxa de chegada dos pedidos por dia\n",
        "x = 50 # número de pedidos desejados\n",
        "\n",
        "# Cálculo da probabilidade P[X=x]\n",
        "probabPoisson = poisson.pmf(x, lmbda)\n",
        "print(f'A probabilidade de ocorrer exatos 50 pedidos ocorrerem é de {probabPoisson:.5f}%')\n",
        "\n",
        "# Cálculo da probabilidade P[X>x]\n",
        "probab_greater = poisson.sf(x, lmbda)\n",
        "print(f'Aproximadamente {probab_greater:.5f}% dos casos pode acontecer mais de 50 pedidos na indústria,\\nportanto vai da gerência considerar esse índice alto ou não e tomar a decisão de contratar ou não mais funcionários.')"
      ],
      "metadata": {
        "colab": {
          "base_uri": "https://localhost:8080/"
        },
        "id": "BmbvIqOq6rl9",
        "outputId": "ffc4a01c-d04c-45fe-a430-4fd6a5e693e2"
      },
      "execution_count": 103,
      "outputs": [
        {
          "output_type": "stream",
          "name": "stdout",
          "text": [
            "A probabilidade de ocorrer exatos 50 pedidos ocorrerem é de 0.01771%\n",
            "Aproximadamente 0.05263% dos casos pode acontecer mais de 50 pedidos na indústria,\n",
            "portanto vai da gerência considerar esse índice alto ou não e tomar a decisão de contratar ou não mais funcionários.\n"
          ]
        }
      ]
    },
    {
      "cell_type": "code",
      "source": [],
      "metadata": {
        "id": "U3UMNFu76sN3"
      },
      "execution_count": 103,
      "outputs": []
    },
    {
      "cell_type": "markdown",
      "source": [
        "8. A chegada de ônibus em um terminal acontece a razão de 3 por minuto.\n",
        "Supondo que tenha uma distribuição de Poisson, determine a probabilidade de:\n",
        "a) chegarem exatamente 8 ônibus em 2 minutos\n",
        "b) chegarem exatamente 4 ônibus em 5 minutos."
      ],
      "metadata": {
        "id": "5fEJMRixTD-i"
      }
    },
    {
      "cell_type": "code",
      "source": [
        "# a)\n",
        "poisson_a = poisson.pmf(8, 3*2)\n",
        "poisson_a"
      ],
      "metadata": {
        "colab": {
          "base_uri": "https://localhost:8080/"
        },
        "id": "ihN8uf_9S1um",
        "outputId": "ad398272-9354-4c26-cf6f-e1eafc8b09fc"
      },
      "execution_count": 104,
      "outputs": [
        {
          "output_type": "execute_result",
          "data": {
            "text/plain": [
              "0.1032577335308442"
            ]
          },
          "metadata": {},
          "execution_count": 104
        }
      ]
    },
    {
      "cell_type": "code",
      "source": [
        "# b)\n",
        "poisson_b = poisson.pmf(4, 3*5)\n",
        "poisson_b"
      ],
      "metadata": {
        "colab": {
          "base_uri": "https://localhost:8080/"
        },
        "id": "xdVrS2RUd5c6",
        "outputId": "e2aeed54-79d4-45fb-bbd0-1055ac439203"
      },
      "execution_count": 105,
      "outputs": [
        {
          "output_type": "execute_result",
          "data": {
            "text/plain": [
              "0.000645262707308539"
            ]
          },
          "metadata": {},
          "execution_count": 105
        }
      ]
    }
  ]
}