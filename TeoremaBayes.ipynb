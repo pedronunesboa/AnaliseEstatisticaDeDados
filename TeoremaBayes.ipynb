{
  "nbformat": 4,
  "nbformat_minor": 0,
  "metadata": {
    "colab": {
      "provenance": []
    },
    "kernelspec": {
      "name": "python3",
      "display_name": "Python 3"
    },
    "language_info": {
      "name": "python"
    }
  },
  "cells": [
    {
      "cell_type": "code",
      "execution_count": 1,
      "metadata": {
        "id": "JloNvEch3QFb"
      },
      "outputs": [],
      "source": [
        "#Importa a biblioteca do modelo Naive Bayes Gaussiano\n",
        "from sklearn.naive_bayes import GaussianNB\n",
        "import numpy as np\n",
        "\n",
        "#Designa as variáveis previsor e alvo\n",
        "x= np.array([[-3,7],[1,5], [1,2], [-2,0], [2,3], [-4,0], [-1,1], [1,1], [-2,2], [2,7], [-4,1], [-2,7]])\n",
        "Y = np.array([3, 3, 3, 3, 4, 3, 3, 4, 3, 4, 4, 4])"
      ]
    },
    {
      "cell_type": "code",
      "source": [
        "#Cria um classificador Gaussiano\n",
        "model = GaussianNB()\n",
        "\n",
        "#Treina o modelo usando os dados de treino\n",
        "model.fit(x, Y)\n",
        "\n",
        "#Resultado de previsão\n",
        "predicted= model.predict([[1,2],[3,4]])\n",
        "print(predicted)\n",
        "\n",
        "# Output: ([3,4])"
      ],
      "metadata": {
        "colab": {
          "base_uri": "https://localhost:8080/"
        },
        "id": "TaGsJxhX3iBp",
        "outputId": "998757bf-5b54-4a2a-a50d-0fb257a262b6"
      },
      "execution_count": 2,
      "outputs": [
        {
          "output_type": "stream",
          "name": "stdout",
          "text": [
            "[3 4]\n"
          ]
        }
      ]
    },
    {
      "cell_type": "code",
      "source": [
        "eventos = 10000\n",
        "probabA = 0.2\n",
        "probabBA = 0.9\n",
        "\n",
        "\n",
        "# probabilidade de NÂO ocorrer (inverso do probab)\n",
        "probabNBA = 0.1\n",
        "probabNA = 1 - probabA\n",
        "\n",
        "#P(B) é a probabilidade do teste dar positivo\n",
        "probabB = (probabBA * probabA + probabNBA * probabNA)\n",
        "\n",
        "probabAB = (probabBA*probabA)/probabB\n",
        "\n",
        "print(probabBA)\n",
        "print(probabA)\n",
        "print(probabB)\n",
        "print(probabAB)"
      ],
      "metadata": {
        "colab": {
          "base_uri": "https://localhost:8080/"
        },
        "id": "LXJxFJk83j0R",
        "outputId": "be9572f4-d314-4870-e235-3791d7b5742c"
      },
      "execution_count": 3,
      "outputs": [
        {
          "output_type": "stream",
          "name": "stdout",
          "text": [
            "0.9\n",
            "0.2\n",
            "0.26\n",
            "0.6923076923076924\n"
          ]
        }
      ]
    },
    {
      "cell_type": "code",
      "source": [
        "#A é o evento da pessoa estar doente\n",
        "#P_A probabilidade associada a pessoa estar doente\n",
        "P_A = 0.2\n",
        "\n",
        "\n",
        "#P_BA é a probabilidade do teste dar positivo sendo que a pessoa está doente\n",
        "#a é a significancia\n",
        "a = 0.10\n",
        "P_BA = 1 - a\n",
        "\n",
        "# Falso positivo é o beta\n",
        "b = a\n",
        "P_BnA = b\n",
        "\n",
        "P_nA = 1 - P_A\n",
        "\n",
        "#P_B é a probabilidade do teste dar positivo\n",
        "P_B = P_BA * P_A +  P_BnA * P_nA\n",
        "\n",
        "P_AB = (P_BA * P_A)/P_B\n",
        "P_AB, P_B"
      ],
      "metadata": {
        "colab": {
          "base_uri": "https://localhost:8080/"
        },
        "id": "l5biiKGH3lrI",
        "outputId": "2901d15c-3a98-4727-cc63-b873ea72ea28"
      },
      "execution_count": 4,
      "outputs": [
        {
          "output_type": "execute_result",
          "data": {
            "text/plain": [
              "(0.6923076923076924, 0.26)"
            ]
          },
          "metadata": {},
          "execution_count": 4
        }
      ]
    },
    {
      "cell_type": "markdown",
      "source": [
        "EXERCÍCIO 1\n",
        "Um novo teste de gravidez promete ter índice de acerto de 99,9%. Em\n",
        "contrapartida, o índice de erro é de 10%. Considerando que 10mil mulheres\n",
        "compraram o novo teste em 1 mês, e que 5mil delas estejam realmente grávidas,\n",
        "pergunta-se\n",
        "a) Qual é a porcentagem de mulheres grávidas que irão realizar o teste?\n",
        "b) Qual é a probabilidade de o teste dar positivo?\n",
        "c) Qual é a probabilidade de o teste dar positivo se a mulher está grávida?\n",
        "d) Qual é a probabilidade de a mulher estar grávida se o teste der positivo?"
      ],
      "metadata": {
        "id": "CBJOvdoT3nx5"
      }
    },
    {
      "cell_type": "code",
      "source": [
        "#A evento da pessoa estar grávida\n",
        "# P_BA chance de estar grávida e o teste dar positivo\n",
        "P_BA = 0.999\n",
        "\n",
        "# P_A porcentagem de mulheres grávidas que irão realizar o teste\n",
        "P_A = 0.5\n",
        "\n",
        "a = 0.001\n",
        "\n",
        "#beta é a significância\n",
        "b = 0.10\n",
        "P_BnA = b\n",
        "\n",
        "P_nA = 1 - P_A\n",
        "\n",
        "#P_B é a probabilidade do teste dar positivo\n",
        "P_B = P_BA * P_A +  P_BnA * P_nA\n",
        "\n",
        "P_AB = (P_BA * P_A)/P_B\n",
        "\n",
        "#) a\n",
        "print(P_A)\n",
        "\n",
        "#) b\n",
        "print(P_B)\n",
        "\n",
        "#) c\n",
        "print(P_BA)\n",
        "\n",
        "#) d\n",
        "print(P_AB)"
      ],
      "metadata": {
        "colab": {
          "base_uri": "https://localhost:8080/"
        },
        "id": "4y8swYW73oMW",
        "outputId": "3d413f53-f333-49fd-e079-753519746d37"
      },
      "execution_count": 5,
      "outputs": [
        {
          "output_type": "stream",
          "name": "stdout",
          "text": [
            "0.5\n",
            "0.5495\n",
            "0.999\n",
            "0.9090081892629663\n"
          ]
        }
      ]
    },
    {
      "cell_type": "markdown",
      "source": [
        "EXERCÍCIO 2\n",
        "O número de vezes que um indivíduo tem gripe em determinado ano é uma\n",
        "variável aleatória de Poisson com = 5. Suponha que um novo medicamento\n",
        "reduza o parâmetro  para 3 em 75% da população. Para os 25% restantes a droga\n",
        "não tem um efeito significativo.\n",
        "a) Se um indivíduo toma o medicamento durante um ano e tem duas gripes,\n",
        "qual a probabilidade de que o medicamento seja benéfico para ele (ela)?\n",
        "b) Com base nesse resultado, se o indivíduo soubesse essa probabilidade a\n",
        "priori, você acha que ele deveria continuar tomando o medicamento?\n",
        "\n",
        "Dica: utilize a distribuição de Poisson junto com o teorema de Bayes"
      ],
      "metadata": {
        "id": "n5YC89jcfCtq"
      }
    },
    {
      "cell_type": "code",
      "source": [
        "from scipy.stats import poisson"
      ],
      "metadata": {
        "id": "Q_Dd7frvgaeJ"
      },
      "execution_count": 6,
      "outputs": []
    },
    {
      "cell_type": "code",
      "source": [
        "lbdaAntes = 5\n",
        "lbdaDepois = 3\n",
        "qtdeGripes = 2\n",
        "\n"
      ],
      "metadata": {
        "id": "_JjUl9hOfDE2"
      },
      "execution_count": 7,
      "outputs": []
    },
    {
      "cell_type": "code",
      "source": [
        "poissonAntes = poisson.pmf(qtdeGripes,lbdaAntes)\n",
        "poissonDepois = poisson.pmf(qtdeGripes,lbdaDepois)\n",
        "print(poissonAntes)\n",
        "print(poissonDepois)"
      ],
      "metadata": {
        "colab": {
          "base_uri": "https://localhost:8080/"
        },
        "id": "xtX4w7fKmOrw",
        "outputId": "e7773b1a-92e5-4823-8fed-1d753dad9ad6"
      },
      "execution_count": 8,
      "outputs": [
        {
          "output_type": "stream",
          "name": "stdout",
          "text": [
            "0.08422433748856832\n",
            "0.22404180765538775\n"
          ]
        }
      ]
    },
    {
      "cell_type": "code",
      "source": [
        "# Probabilidade do paciente ser beneficiado\n",
        "\n",
        "# Probabilidade de tomar o remédio ter tido duas gripes e não ser beneficiado\n",
        "P_N = poissonAntes * 0.25\n",
        "\n",
        "# Probabilidade de tomar o remédio ter tido duas gripes e ser beneficiado\n",
        "P_B = poissonDepois * 0.75\n",
        "\n",
        "probab2Gripes = P_B + P_N\n",
        "\n",
        "probabBeneficiado2Gripes = P_B /  probab2Gripes\n"
      ],
      "metadata": {
        "id": "jj0X8ATTie3a"
      },
      "execution_count": 9,
      "outputs": []
    },
    {
      "cell_type": "code",
      "source": [
        "# a)\n",
        "print(f'Probabilidade de que o medicamento seja benéfico pra ele é de: {probabBeneficiado2Gripes:.4f}%')\n"
      ],
      "metadata": {
        "id": "d6umfhg2ixNL",
        "colab": {
          "base_uri": "https://localhost:8080/"
        },
        "outputId": "30045611-1ade-48c8-b39c-91fa40ef24e2"
      },
      "execution_count": 10,
      "outputs": [
        {
          "output_type": "stream",
          "name": "stdout",
          "text": [
            "Probabilidade de que o medicamento seja benéfico pra ele é de: 0.8886%\n"
          ]
        }
      ]
    },
    {
      "cell_type": "code",
      "source": [
        "# b)\n",
        "print('Como o resultado da probabilidade demonstra uma porcentagem que se aproxima de 90% em relação ao benefício do uso do medicamento, de certo o indivíduo deveria continuar utilizando o medicamento.')"
      ],
      "metadata": {
        "id": "8amzbE4Gqkm7",
        "colab": {
          "base_uri": "https://localhost:8080/"
        },
        "outputId": "825cf7d5-f70d-4bc4-fce7-18c0656ab12c"
      },
      "execution_count": 11,
      "outputs": [
        {
          "output_type": "stream",
          "name": "stdout",
          "text": [
            "Como o resultado da probabilidade demonstra uma porcentagem que se aproxima de 90% em relação ao benefício do uso do medicamento, de certo o indivíduo deveria continuar utilizando o medicamento.\n"
          ]
        }
      ]
    }
  ]
}